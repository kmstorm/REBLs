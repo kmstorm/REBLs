{
 "cells": [
  {
   "cell_type": "code",
   "execution_count": 3,
   "id": "5704e2ac",
   "metadata": {},
   "outputs": [],
   "source": [
    "import os\n",
    "import json\n",
    "import re\n",
    "import shutil\n",
    "import numpy as np\n",
    "import pandas as pd\n",
    "import matplotlib.pyplot as plt\n",
    "import seaborn as sns\n",
    "import pickle as pkl\n",
    "from tqdm import tqdm\n",
    "import warnings\n",
    "from collections import Counter\n",
    "import scipy.stats as st\n",
    "from sklearn.feature_selection import mutual_info_classif\n",
    "import xgboost as xgb"
   ]
  },
  {
   "cell_type": "markdown",
   "id": "afdcce9d",
   "metadata": {},
   "source": [
    "### Init"
   ]
  },
  {
   "cell_type": "code",
   "execution_count": 5,
   "id": "d4bdae5d",
   "metadata": {},
   "outputs": [],
   "source": [
    "def LoadData(path):\n",
    "    ls = []\n",
    "    patients = os.listdir(path)\n",
    "    # Load data\n",
    "    for patient in patients:\n",
    "        dataPath = os.path.join(path, patient)\n",
    "\n",
    "        with open(dataPath, 'r') as file:\n",
    "            data = json.load(file)\n",
    "\n",
    "        ls.append(pd.DataFrame([data]))\n",
    "\n",
    "    df = pd.concat(ls, ignore_index = True)\n",
    "    y = df['Label']\n",
    "    X = df.select_dtypes(include=[np.number]).drop(['Label'],axis = 1)\n",
    "    case = df['Name']\n",
    "        \n",
    "    return df, case, X, y"
   ]
  },
  {
   "cell_type": "code",
   "execution_count": 5,
   "id": "31d5871a",
   "metadata": {},
   "outputs": [],
   "source": [
    "def GroupData(X_train, X_test, group = ['original', 'log', 'wavelet']):\n",
    "    selected = []\n",
    "\n",
    "    for col in X_train.columns:\n",
    "        for g in group:\n",
    "            if col.startswith(g):\n",
    "                selected.append(col)\n",
    "                break\n",
    "\n",
    "    train = X_train[selected]\n",
    "    test  = X_test[selected]\n",
    "\n",
    "    return train, test"
   ]
  },
  {
   "cell_type": "code",
   "execution_count": 8,
   "id": "d63b6085",
   "metadata": {},
   "outputs": [],
   "source": [
    "def readDataset(path):\n",
    "    dict = np.load(path, allow_pickle = True).item()\n",
    "    return dict['X_train'], dict['y_train'], dict['X_test'], dict['y_test']"
   ]
  },
  {
   "cell_type": "code",
   "execution_count": null,
   "id": "c0110476",
   "metadata": {},
   "outputs": [],
   "source": [
    "groups = [['original'], ['log'], ['wavelet'],\n",
    "          ['original', 'log'], ['original', 'wavelet'], ['log', 'wavelet'], \n",
    "          ['original', 'log', 'wavelet']]\n",
    "path = './path'\n",
    "npy_path = './npy_path'\n",
    "json_path = './json_path'"
   ]
  },
  {
   "cell_type": "code",
   "execution_count": 16,
   "id": "5dcb3ccb",
   "metadata": {},
   "outputs": [],
   "source": [
    "# Initial\n",
    "filter_type = os.listdir(os.path.join(npy_path,'fold0'))\n",
    "folds = os.listdir(npy_path)\n",
    "folds.sort()\n",
    "init_fold = folds[0]"
   ]
  },
  {
   "cell_type": "markdown",
   "id": "fceef6b0",
   "metadata": {},
   "source": [
    "### Split Data and save by .npy"
   ]
  },
  {
   "cell_type": "code",
   "execution_count": null,
   "id": "d17e5869",
   "metadata": {},
   "outputs": [
    {
     "name": "stdout",
     "output_type": "stream",
     "text": [
      "original (84, 14) (26, 14)\n",
      "log (84, 47) (26, 47)\n",
      "wavelet (84, 61) (26, 61)\n",
      "original_log (84, 61) (26, 61)\n",
      "original_wavelet (84, 75) (26, 75)\n",
      "log_wavelet (84, 108) (26, 108)\n",
      "original_log_wavelet (84, 123) (26, 123)\n"
     ]
    }
   ],
   "source": [
    "for group in groups:\n",
    "    group_str = '_'.join(group)\n",
    "    trainX, trainY = LoadData(os.path.join(path, init_fold, 'train'))\n",
    "    testX, testY = LoadData(os.path.join(path, init_fold, 'test'))\n",
    "    \n",
    "    X_train, X_test = GroupData(trainX, testX, group)\n",
    "    temp = X_train\n",
    "    \n",
    "    X = np.concatenate((X_train, X_test), axis=0)\n",
    "    Y = np.concatenate((trainY.to_numpy(),testY.to_numpy()), axis = 0)\n",
    "    \n",
    "    mi = mutual_info_classif(X, Y)\n",
    "\n",
    "    for fold in os.listdir(path):\n",
    "        des = os.path.join(npy_path,fold)\n",
    "        trainX, trainY = LoadData(os.path.join(path, fold, 'train'))\n",
    "        testX, testY = LoadData(os.path.join(path, fold, 'test'))\n",
    "        y_train = trainY.to_numpy()\n",
    "        y_test = testY.to_numpy()\n",
    "        X_train, X_test = GroupData(trainX, testX, group)\n",
    "        X_train = X_train[:, np.where(mi >= 0.12)[0]]\n",
    "        X_test  = X_test[:, np.where(mi >= 0.12)[0]]\n",
    "\n",
    "        dict = {\n",
    "            'X_train': X_train,\n",
    "            'X_test': X_test,\n",
    "            'y_train': y_train,\n",
    "            'y_test': y_test\n",
    "        }\n",
    "        \n",
    "        if (fold == 'fold0'):\n",
    "            print(group_str, X_train.shape, X_test.shape)\n",
    "        np.save(os.path.join(des,f'{group_str}.npy'), dict)"
   ]
  }
 ],
 "metadata": {
  "kernelspec": {
   "display_name": "Python 3 (ipykernel)",
   "language": "python",
   "name": "python3"
  },
  "language_info": {
   "codemirror_mode": {
    "name": "ipython",
    "version": 3
   },
   "file_extension": ".py",
   "mimetype": "text/x-python",
   "name": "python",
   "nbconvert_exporter": "python",
   "pygments_lexer": "ipython3",
   "version": "3.12.4"
  }
 },
 "nbformat": 4,
 "nbformat_minor": 5
}
