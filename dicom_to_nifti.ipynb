{
 "cells": [
  {
   "cell_type": "markdown",
   "metadata": {
    "id": "K37pXrUcG5G1"
   },
   "source": [
    "# Convert DICOM + RTStruct to NIfTI mask\n"
   ]
  },
  {
   "cell_type": "markdown",
   "metadata": {
    "id": "ZozhePfLG5G4"
   },
   "source": [
    "## Import required functions"
   ]
  },
  {
   "cell_type": "code",
   "execution_count": 18,
   "metadata": {
    "id": "UWQwo2juG5G4",
    "scrolled": true
   },
   "outputs": [],
   "source": [
    "import platipy\n",
    "import os\n",
    "import re\n",
    "import shutil\n",
    "import pandas as pd\n",
    "import numpy as np\n",
    "from pathlib import Path\n",
    "from platipy.dicom.io.rtstruct_to_nifti import convert_rtstruct, read_dicom_struct_file, fix_missing_data"
   ]
  },
  {
   "cell_type": "markdown",
   "metadata": {
    "id": "y31sU6G7G5G5"
   },
   "source": [
    "## Define the RTSTRUCT and MR image paths\n",
    "\n",
    "The image series is required as the output masks will be generated in the same image space as this series."
   ]
  },
  {
   "cell_type": "code",
   "execution_count": 20,
   "metadata": {
    "id": "x23EHhYDG5G6"
   },
   "outputs": [],
   "source": [
    "img_folder = 'img_path'\n",
    "roi_folder = 'roi_path'\n",
    "output_folder = 'output_path'"
   ]
  },
  {
   "cell_type": "markdown",
   "metadata": {
    "id": "FhdEyZWtG5G6"
   },
   "source": [
    "## Convert the RTSTRUCT\n",
    "\n",
    "Call the convert_rtstruct function to generate the contours.\n",
    "\n",
    "Optional settings defining the prefix for the mask files generated and the output directory are also passed in to the function."
   ]
  },
  {
   "cell_type": "code",
   "execution_count": 23,
   "metadata": {},
   "outputs": [],
   "source": [
    "def convert(file, patient: \"Anonymous\", dcm_path, rts_path, output_folder):\n",
    "    for dcm in os.listdir(dcm_path):\n",
    "        get = int(re.split('_|-',dcm)[0])\n",
    "        if get == file:\n",
    "            dcm_path = os.path.join(dcm_path,dcm,'DICOM')  # Watch out before running this\n",
    "            break\n",
    "    \n",
    "    os.mkdir(os.path.join(output_folder,patient))\n",
    "    try:\n",
    "        convert_rtstruct(\n",
    "            dcm_path,\n",
    "            rts_path,\n",
    "            prefix = f'RTSTRUCT_{patient}_',\n",
    "            output_dir = os.path.join(output_folder,patient),\n",
    "            output_img = patient\n",
    "        )\n",
    "        print(f\"Proceed {patient}\")\n",
    "    except:\n",
    "        print(f\"Fail to extract {patient}\")     \n",
    "    return"
   ]
  },
  {
   "cell_type": "code",
   "execution_count": null,
   "metadata": {},
   "outputs": [],
   "source": [
    "for patient in os.listdir(img_folder):\n",
    "    label = {}\n",
    "    try:\n",
    "        # Get path of image and ROI\n",
    "        dcm_path = os.path.join(img_folder,patient)\n",
    "        rts_path = os.path.join(roi_folder,patient)\n",
    "    except:\n",
    "        continue\n",
    "\n",
    "    #get ID as tuple\n",
    "    for rts in os.listdir(rts_path):\n",
    "        get = rts.split('_')\n",
    "        label[int(get[-1][1:])]= rts\n",
    "        \n",
    "    file = max(label) #coronal   \n",
    "    rts_path = os.path.join(rts_path,label[file],'RTSTRUCT')\n",
    "    rts_path = os.path.join(rts_path,os.listdir(rts_path)[0])\n",
    "    param = {\n",
    "        \"file\": file,\n",
    "        \"patient\": patient,\n",
    "        \"dcm_path\": dcm_path,\n",
    "        \"rts_path\": rts_path,\n",
    "        \"output_folder\": output_folder\n",
    "    }\n",
    "    convert(**param) #convert coronal Dicom and RTSTRUCT to Nifti\n"
   ]
  },
  {
   "cell_type": "markdown",
   "metadata": {
    "id": "EIi1b1-kG5G7"
   },
   "source": [
    "Another setting which can be useful is to also output the image series as a NIfTI file into the output directory. You can also specify the pixel spacing of the output:"
   ]
  },
  {
   "cell_type": "code",
   "execution_count": 7,
   "metadata": {},
   "outputs": [],
   "source": [
    "img_out = 'TEST'\n",
    "output_path = Path(\"../testcase/DCMRT_ROI\")\n",
    "output_path.mkdir(parents=True, exist_ok=True)\n",
    "\n",
    "dcm_path = dcm_axl_path\n",
    "rts_path = cor_path\n",
    "\n",
    "convert_rtstruct(\n",
    "    dcm_path,\n",
    "    rts_path,\n",
    "    prefix = 'RTSTRUCT_',\n",
    "    output_dir= output_path,\n",
    "    output_img=img_out\n",
    ")"
   ]
  }
 ],
 "metadata": {
  "colab": {
   "provenance": []
  },
  "kernelspec": {
   "display_name": "Python 3 (ipykernel)",
   "language": "python",
   "name": "python3"
  },
  "language_info": {
   "codemirror_mode": {
    "name": "ipython",
    "version": 3
   },
   "file_extension": ".py",
   "mimetype": "text/x-python",
   "name": "python",
   "nbconvert_exporter": "python",
   "pygments_lexer": "ipython3",
   "version": "3.12.4"
  },
  "vscode": {
   "interpreter": {
    "hash": "950d949bcc8447743ba2e2f4f81e1f06919534c5bd1d053b1a2c5f1f73baee7b"
   }
  }
 },
 "nbformat": 4,
 "nbformat_minor": 4
}
