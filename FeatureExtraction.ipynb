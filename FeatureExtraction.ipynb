{
 "cells": [
  {
   "cell_type": "markdown",
   "id": "3bd02b13-b3b6-4bb6-8555-1fadf211abad",
   "metadata": {},
   "source": [
    "## Feature Extraction by Pyradiomics"
   ]
  },
  {
   "cell_type": "code",
   "execution_count": 1,
   "id": "9a560a00",
   "metadata": {},
   "outputs": [],
   "source": [
    "from __future__ import print_function\n",
    "import os\n",
    "import json\n",
    "import collections\n",
    "import SimpleITK as sitk\n",
    "import numpy as np\n",
    "import pandas as pd\n",
    "from tqdm import tqdm\n",
    "\n",
    "import six\n",
    "import re\n",
    "import radiomics\n",
    "from radiomics import featureextractor, getFeatureClasses\n",
    "from radiomics import firstorder, glcm, imageoperations, shape, glrlm, glszm"
   ]
  },
  {
   "cell_type": "code",
   "execution_count": 7,
   "id": "1757f70c",
   "metadata": {},
   "outputs": [],
   "source": [
    "featureClasses = getFeatureClasses()\n",
    "path = '/mnt/sda1/test2-set/nifti'\n",
    "json_path = '/mnt/sda1/test-set/json'\n",
    "params = 'param_extraction.yaml'\n",
    "extractor = featureextractor.RadiomicsFeatureExtractor(params)"
   ]
  },
  {
   "cell_type": "code",
   "execution_count": 8,
   "id": "51dc9729",
   "metadata": {},
   "outputs": [
    {
     "name": "stdout",
     "output_type": "stream",
     "text": [
      "Enabled input images:\n",
      "\tOriginal\n",
      "\tLoG\n",
      "\tWavelet\n"
     ]
    }
   ],
   "source": [
    "print('Enabled input images:')\n",
    "for imageType in extractor.enabledImagetypes.keys():\n",
    "    print('\\t' + imageType)"
   ]
  },
  {
   "cell_type": "markdown",
   "id": "780384b7-cfe2-4106-8925-b643b3e1ba6a",
   "metadata": {},
   "source": [
    "### Feature Extraction"
   ]
  },
  {
   "cell_type": "code",
   "execution_count": 9,
   "id": "a740217e-93be-49aa-bd56-28dca4214c42",
   "metadata": {},
   "outputs": [],
   "source": [
    "def ndarray2list(obj):\n",
    "    if isinstance(obj, np.ndarray):\n",
    "        return obj.tolist()\n",
    "    elif isinstance(obj, dict):\n",
    "        return {k: ndarray2list(v) for k, v in obj.items()}\n",
    "    elif isinstance(obj, list):\n",
    "        return [ndarray2list(i) for i in obj]\n",
    "    else:\n",
    "        return obj"
   ]
  },
  {
   "cell_type": "code",
   "execution_count": 11,
   "id": "805baa91-0e42-4c16-9d39-0a970ecd6e50",
   "metadata": {},
   "outputs": [
    {
     "name": "stderr",
     "output_type": "stream",
     "text": [
      "Processing patients: 100%|████████████████████████| 5/5 [08:12<00:00, 98.47s/it]\n"
     ]
    }
   ],
   "source": [
    "extracted = []\n",
    "patients = os.listdir(path)\n",
    "patients.sort()\n",
    "\n",
    "for patient in tqdm(patients, desc=\"Processing patients\"):\n",
    "    imagePath = None\n",
    "    maskPath = None\n",
    "    folder = os.path.join(path,patient)\n",
    "    output = os.path.join(json_path, f\"{'axial' if patient.endswith('a') else 'coronal'}\", f\"{patient}.json\")\n",
    "    \n",
    "    if os.path.isfile(output):\n",
    "        continue\n",
    "    \n",
    "    if not(os.path.isdir(folder)):\n",
    "        print(f'{patient} is not a folder')\n",
    "        continue\n",
    "    \n",
    "    if (f\"{patient}.nii.gz\") in os.listdir(folder):\n",
    "        imagePath = os.path.join(folder,f\"{patient}.nii.gz\")\n",
    "    else: \n",
    "        if (f\"{patient}.nii\") in os.listdir(folder):\n",
    "            imagePath = os.path.join(folder,f\"{patient}.nii\")\n",
    "        \n",
    "    if (f\"RTSTRUCT {patient}.nii.gz\") in os.listdir(folder):\n",
    "        maskPath = os.path.join(folder,f\"{patient}.nii.gz\")\n",
    "    else: \n",
    "        if (f\"RTSTRUCT {patient}.nii\") in os.listdir(folder):\n",
    "            maskPath = os.path.join(folder,f\"{patient}.nii\")\n",
    "        \n",
    "    if imagePath is None or maskPath is None:\n",
    "        print(f\"Missing {patient} file\")\n",
    "        continue\n",
    "\n",
    "    try:\n",
    "        mask = sitk.ReadImage(maskPath)\n",
    "        # print(f\"Running {patient}\")\n",
    "        featureVector = extractor.execute(imagePath,mask)\n",
    "    except:\n",
    "        print(f\"Error when extracting {patient} feature\")\n",
    "        continue\n",
    "    feature = {\n",
    "        \"Name\": patient,\n",
    "        \"Label\": 1 if patient.split('_')[0]=='Infective' else 0,\n",
    "        **featureVector\n",
    "    }\n",
    "\n",
    "    with open(output, 'w') as json_file:\n",
    "        json.dump(ndarray2list(feature), json_file, indent = 4)"
   ]
  }
 ],
 "metadata": {
  "kernelspec": {
   "display_name": "Python 3 (ipykernel)",
   "language": "python",
   "name": "python3"
  },
  "language_info": {
   "codemirror_mode": {
    "name": "ipython",
    "version": 3
   },
   "file_extension": ".py",
   "mimetype": "text/x-python",
   "name": "python",
   "nbconvert_exporter": "python",
   "pygments_lexer": "ipython3",
   "version": "3.12.4"
  }
 },
 "nbformat": 4,
 "nbformat_minor": 5
}
